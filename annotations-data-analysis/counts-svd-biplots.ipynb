{
 "cells": [
  {
   "cell_type": "markdown",
   "id": "0",
   "metadata": {},
   "source": [
    "Notes\n",
    "- Need to re-check the Horn's test implementation\n",
    "- Not sure if later steps should keep the column scaling from the Horn's test step"
   ]
  },
  {
   "cell_type": "code",
   "execution_count": null,
   "id": "1",
   "metadata": {},
   "outputs": [],
   "source": [
    "using CSV\n",
    "using DataFrames\n",
    "using LinearAlgebra\n",
    "using Statistics\n",
    "using StatsBase\n",
    "using Distributions\n",
    "using Plots; gr()\n",
    "using LaTeXStrings\n",
    "using Printf"
   ]
  },
  {
   "cell_type": "code",
   "execution_count": null,
   "id": "2",
   "metadata": {},
   "outputs": [],
   "source": [
    "da1 = open(\"derived-dataframes/regression-data-v5/conv-annotator_code-speaker_counts.csv\") do io\n",
    "    CSV.read(io, DataFrame)\n",
    "end"
   ]
  },
  {
   "cell_type": "code",
   "execution_count": null,
   "id": "3",
   "metadata": {},
   "outputs": [],
   "source": [
    "gda1 = groupby(da1, [:document, :conversation_number])\n",
    "da2 = combine(gda1, names(da1)[5:end] .=> median; renamecols=false)\n",
    "outcomes = combine(gda1, :outcome .=> mode; renamecols=false)[:, \"outcome\"]\n",
    "insertcols!(da2, 3, :outcome => outcomes)"
   ]
  },
  {
   "cell_type": "code",
   "execution_count": null,
   "id": "4",
   "metadata": {},
   "outputs": [],
   "source": [
    "X = Matrix(da2[:, 4:end])"
   ]
  },
  {
   "cell_type": "code",
   "execution_count": null,
   "id": "5",
   "metadata": {},
   "outputs": [],
   "source": [
    "# square root the matrix\n",
    "Xt = sqrt.(X)\n",
    "\n",
    "# center the matrix\n",
    "Xt .-= mean(Xt)\n",
    "\n",
    "colmeans = mean(Xt ; dims=1)\n",
    "rowmeans = mean(Xt ; dims=2)\n",
    "\n",
    "Xt .-= colmeans\n",
    "Xt .-= rowmeans"
   ]
  },
  {
   "cell_type": "code",
   "execution_count": null,
   "id": "6",
   "metadata": {},
   "outputs": [],
   "source": [
    "maximum(mean(Xt ; dims=1)), minimum(mean(Xt ; dims=1))"
   ]
  },
  {
   "cell_type": "code",
   "execution_count": null,
   "id": "7",
   "metadata": {},
   "outputs": [],
   "source": [
    "maximum(mean(Xt ; dims=2)), minimum(mean(Xt ; dims=2))"
   ]
  },
  {
   "cell_type": "code",
   "execution_count": null,
   "id": "8",
   "metadata": {},
   "outputs": [],
   "source": [
    "# take the decomposition\n",
    "U, s, V = svd(Xt)"
   ]
  },
  {
   "cell_type": "code",
   "execution_count": null,
   "id": "9",
   "metadata": {},
   "outputs": [],
   "source": [
    "# eyeball how the dominant singular values behave\n",
    "s[1:10]"
   ]
  },
  {
   "cell_type": "code",
   "execution_count": null,
   "id": "10",
   "metadata": {},
   "outputs": [],
   "source": [
    "# we want to check that these are uncorrelated (output should be close to zero)\n",
    "print(cor(U[:, 1], U[:, 2]), \"\\n\", cor(V[:, 1], V[:, 2]))"
   ]
  },
  {
   "cell_type": "code",
   "execution_count": null,
   "id": "11",
   "metadata": {},
   "outputs": [],
   "source": [
    "# we also want to check that the matrices are centered (output should be close to zero)\n",
    "print(extrema(mean(U ; dims=1)[1:10]), \"\\n\", extrema(mean(V ; dims=1)[1:10]))"
   ]
  },
  {
   "cell_type": "code",
   "execution_count": null,
   "id": "12",
   "metadata": {},
   "outputs": [],
   "source": [
    "sum(s.<=1e-12) # check how many are basically zero"
   ]
  },
  {
   "cell_type": "code",
   "execution_count": null,
   "id": "13",
   "metadata": {},
   "outputs": [],
   "source": [
    "length(s)"
   ]
  },
  {
   "cell_type": "markdown",
   "id": "14",
   "metadata": {},
   "source": [
    "### Horn's test for number of factors\n",
    "https://link.springer.com/article/10.1007/BF02289447\n",
    "\n",
    "Source: https://blogs.sas.com/content/iml/2020/12/09/parallel-analysis-retain-principal-components.html"
   ]
  },
  {
   "cell_type": "code",
   "execution_count": null,
   "id": "15",
   "metadata": {},
   "outputs": [],
   "source": [
    "# standardize the matrix columns (multiply through by 1/sqrt(sample column variance))\n",
    "colvars = mean(Xt .^ 2 ; dims=1)\n",
    "Z = Xt ./ sqrt.(colvars)"
   ]
  },
  {
   "cell_type": "code",
   "execution_count": null,
   "id": "16",
   "metadata": {},
   "outputs": [],
   "source": [
    "var(Z; dims=1)"
   ]
  },
  {
   "cell_type": "code",
   "execution_count": null,
   "id": "17",
   "metadata": {},
   "outputs": [],
   "source": [
    "# take the correlation matrix\n",
    "R = cor(Z)\n",
    "N, p = size(Z)\n",
    "\n",
    "# get the eigenvalues (note it's a scaled gram matrix so PSD, so all are nonnegative reals)\n",
    "evals = eigvals(R)[end:-1:1] # sort in the usual way (highest to lowest)"
   ]
  },
  {
   "cell_type": "code",
   "execution_count": null,
   "id": "18",
   "metadata": {},
   "outputs": [],
   "source": [
    "# Wishart(ν, S) where ν = DoF and S = pxp scale matrix\n",
    "dist = Wishart(N - 1, Matrix(I, p, p))\n",
    "\n",
    "nsim = 5000\n",
    "simS = rand(dist, nsim) ./ (N - 1)"
   ]
  },
  {
   "cell_type": "code",
   "execution_count": null,
   "id": "19",
   "metadata": {},
   "outputs": [],
   "source": [
    "# https://documentation.sas.com/doc/en/pgmsascdc/9.4_3.3/imlug/imlug_langref_sect091.html\n",
    "simsdinv = inv.(sqrt.(Diagonal.(diag.(simS))))\n",
    "simR = simsdinv .* simS .* simsdinv"
   ]
  },
  {
   "cell_type": "code",
   "execution_count": null,
   "id": "20",
   "metadata": {},
   "outputs": [],
   "source": [
    "# keep going\n",
    "simevals = eigvals.(simR)\n",
    "simevals = stack(simevals, dims=2)[end:-1:1, :] # reshape and reverse sort"
   ]
  },
  {
   "cell_type": "code",
   "execution_count": null,
   "id": "21",
   "metadata": {},
   "outputs": [],
   "source": [
    "# p-value and test\n",
    "alpha = 0.05\n",
    "simevals = [quantile(simevals[i, :], 1-alpha, sorted=false) for i in 1:p]"
   ]
  },
  {
   "cell_type": "code",
   "execution_count": null,
   "id": "22",
   "metadata": {},
   "outputs": [],
   "source": [
    "plot(; title=\"Scree\", xaxis=\"Index\", yaxis=\"Eigenvalue\")\n",
    "plot!(1:p, evals; color=1, linewidth=2, label=\"Observed\")\n",
    "#scatter!(1:p, evals; color=1, alpha=0.5, markerstrokewidth=0, label=\"\")\n",
    "plot!(1:p, simevals; color=2, linewidth=2, label=\"Simulated\")\n",
    "#scatter!(1:p, simevals; color=2, alpha=0.5, markerstrokewidth=0, label=\"\")"
   ]
  },
  {
   "cell_type": "code",
   "execution_count": null,
   "id": "23",
   "metadata": {},
   "outputs": [],
   "source": [
    "nfactors = 0\n",
    "for k in 1:p\n",
    "    if simevals[k] > evals[k]\n",
    "        nfactors = k - 1\n",
    "        print(nfactors)\n",
    "        break\n",
    "    end\n",
    "end"
   ]
  },
  {
   "cell_type": "code",
   "execution_count": null,
   "id": "24",
   "metadata": {},
   "outputs": [],
   "source": [
    "# output is 5, so we'll keep 5 factors"
   ]
  },
  {
   "cell_type": "code",
   "execution_count": null,
   "id": "25",
   "metadata": {},
   "outputs": [],
   "source": []
  },
  {
   "cell_type": "code",
   "execution_count": null,
   "id": "26",
   "metadata": {},
   "outputs": [],
   "source": []
  },
  {
   "cell_type": "markdown",
   "id": "27",
   "metadata": {},
   "source": [
    "### Make scaled version of the SVD"
   ]
  },
  {
   "cell_type": "code",
   "execution_count": null,
   "id": "28",
   "metadata": {},
   "outputs": [],
   "source": [
    "Ut = U * Diagonal(sqrt.(s))\n",
    "Vt = V * Diagonal(sqrt.(s))"
   ]
  },
  {
   "cell_type": "markdown",
   "id": "29",
   "metadata": {},
   "source": [
    "## Visualizations"
   ]
  },
  {
   "cell_type": "markdown",
   "id": "30",
   "metadata": {},
   "source": [
    "### Look at the singular values"
   ]
  },
  {
   "cell_type": "code",
   "execution_count": null,
   "id": "31",
   "metadata": {},
   "outputs": [],
   "source": [
    "# scree\n",
    "scatter(1:50, s[1:50]; color=7, label=L\"\\sigma\")\n",
    "plot!(; title=\"First 50 singular values\", xaxis=L\"j\", yaxis=L\"s_j\")"
   ]
  },
  {
   "cell_type": "code",
   "execution_count": null,
   "id": "32",
   "metadata": {},
   "outputs": [],
   "source": [
    "# semi log the above\n",
    "scatter(1:50, log.(s[1:50]); color=7, label=L\"\\sigma\")\n",
    "plot!(; title=\"First 50 singular values on semi-log scale\", xaxis=L\"j\", yaxis=L\"\\log (s_j)\")"
   ]
  },
  {
   "cell_type": "code",
   "execution_count": null,
   "id": "33",
   "metadata": {},
   "outputs": [],
   "source": [
    "# do singular values follow a power law relationship?\n",
    "scatter((log.(1:50)), (log.(s[1:50])); color=7, label=L\"\\sigma\")\n",
    "plot!(; title=\"First 50 singular values on log scale\", xaxis=L\"\\log (j)\", yaxis=L\"\\log (s_j)\")"
   ]
  },
  {
   "cell_type": "markdown",
   "id": "34",
   "metadata": {},
   "source": [
    "### Look at the dominant two singular vectors"
   ]
  },
  {
   "cell_type": "code",
   "execution_count": null,
   "id": "35",
   "metadata": {},
   "outputs": [],
   "source": [
    "# biplot\n",
    "plot(; title=\"Biplot: Singular vectors 1 & 2\", xaxis=\"First singular vector\", yaxis=\"Second singular vector\")\n",
    "scatter!(Ut[:, 1], Ut[:, 2]; color=:violet, label=\"Conversation\")\n",
    "scatter!(Vt[:, 1], Vt[:, 2]; color=3, label=\"Code-speaker\")"
   ]
  },
  {
   "cell_type": "code",
   "execution_count": null,
   "id": "36",
   "metadata": {},
   "outputs": [],
   "source": [
    "# code-speaker, color-coded by speaker\n",
    "plot(; title=\"Code-speakers: Singular vectors 1 & 2\", xaxis=\"First singular vector\", yaxis=\"Second singular vector\")\n",
    "scatter!(Vt[1:2:end, 1], Vt[1:2:end, 2]; color=:yellow, label=\"Helper\")\n",
    "scatter!(Vt[2:2:end, 1], Vt[2:2:end, 2]; color=:blue, label=\"Learner\")"
   ]
  },
  {
   "cell_type": "code",
   "execution_count": null,
   "id": "37",
   "metadata": {},
   "outputs": [],
   "source": [
    "# code-speaker, color-coded by code type (highest-level category)\n",
    "codegroups = [x[1] for x in split.([x[3:end] for x in names(da1)[5:end]], \" > \")]\n",
    "plt = plot(; title=\"Code-speakers: Singular vectors 1 & 2\", xaxis=\"First singular vector\", yaxis=\"Second singular vector\")\n",
    "    \n",
    "for grp in unique(codegroups)\n",
    "    flag = codegroups .== grp\n",
    "    scatter!(Vt[flag, 1], Vt[flag, 2]; label=grp)\n",
    "end\n",
    "display(plt)"
   ]
  },
  {
   "cell_type": "code",
   "execution_count": null,
   "id": "38",
   "metadata": {},
   "outputs": [],
   "source": [
    "# conversation, color-coded by outcome\n",
    "successes = da2[:, 3] .== \"S\"\n",
    "plot(; title=\"Conversations: Singular vectors 1 & 2\", xaxis=\"First singular vector\", yaxis=\"Second singular vector\")\n",
    "scatter!(Ut[successes, 1], Ut[successes, 2]; color=1, label=\"Success\")\n",
    "scatter!(Ut[.!successes, 1], Ut[.!successes, 2]; color=2, label=\"Failure\")"
   ]
  },
  {
   "cell_type": "code",
   "execution_count": null,
   "id": "39",
   "metadata": {},
   "outputs": [],
   "source": [
    "# Test* whether the dominant left singular vector represents conversation length\n",
    "plot(; title=\"Conversations: First singular vector vs no. observations\", titlefontsize=11)\n",
    "plot!(; xaxis=\"Number of observations\", yaxis=\"Variable score\")\n",
    "scatter!(sum(X; dims=2), Ut[:, 1]; color=:violet, label=\"Conversation\")"
   ]
  },
  {
   "cell_type": "code",
   "execution_count": null,
   "id": "40",
   "metadata": {},
   "outputs": [],
   "source": [
    "# Test* whether the dominant right singular vector represents code-speaker frequency\n",
    "plot(; title=\"Code-speakers: First singular vector vs no. observations\", titlefontsize=11)\n",
    "plot!(; xaxis=\"Number of observations\", yaxis=\"Variable score\")\n",
    "scatter!(sum(X; dims=1)[1, :], Vt[:, 1]; color=3, label=\"Code-speaker\")"
   ]
  },
  {
   "cell_type": "code",
   "execution_count": null,
   "id": "41",
   "metadata": {},
   "outputs": [],
   "source": [
    "# Test* whether the 2nd left singular vector represents conversation length\n",
    "plot(; title=\"Conversations: Second singular vector vs no. observations\", titlefontsize=11)\n",
    "plot!(; xaxis=\"Number of observations\", yaxis=\"Variable score\")\n",
    "scatter!(sum(X; dims=2), Ut[:, 2]; color=:violet, label=\"Conversation\")"
   ]
  },
  {
   "cell_type": "code",
   "execution_count": null,
   "id": "42",
   "metadata": {},
   "outputs": [],
   "source": [
    "# Test* whether the 2nd right singular vector represents code-speaker frequency\n",
    "plot(; title=\"Code-speakers: Second singular vector vs no. observations\", titlefontsize=11)\n",
    "plot!(; xaxis=\"Cube-root-transformed number of observations\", yaxis=\"Variable score\")\n",
    "scatter!(sum(X; dims=1)[1, :].^0.33, Vt[:, 2]; color=3, label=\"Code-speaker\")"
   ]
  },
  {
   "cell_type": "markdown",
   "id": "43",
   "metadata": {},
   "source": [
    "### Analyze the correlations for the dominant singular vectors"
   ]
  },
  {
   "cell_type": "code",
   "execution_count": null,
   "id": "44",
   "metadata": {},
   "outputs": [],
   "source": [
    "th = 2/sqrt(length(Ut[:, 1])) # this is the threshold for significance of conversation-annotator sized vectors\n",
    "\n",
    "# BH correction\n",
    "th = quantile(Normal(0.0, 1.0), 1 - (0.025 / nfactors))/sqrt(length(Ut[:, 1]))"
   ]
  },
  {
   "cell_type": "code",
   "execution_count": null,
   "id": "45",
   "metadata": {},
   "outputs": [],
   "source": [
    "cor(successes, rowmeans[:, 1]) # the additive conversation main effect *is not* significantly correlated with outcomes"
   ]
  },
  {
   "cell_type": "code",
   "execution_count": null,
   "id": "46",
   "metadata": {},
   "outputs": [],
   "source": [
    "for i in 1:nfactors\n",
    "    c = cor(successes, Ut[:, i])\n",
    "    if c > th\n",
    "        print(\"**Singular vector no. \", i, \" is significantly (positively) correlated with outcomes (\", c, \")\\n\")\n",
    "    elseif c < -th\n",
    "        print(\"**Singular vector no. \", i, \" is significantly (negatively) correlated with outcomes (\", c, \")\\n\")\n",
    "    else\n",
    "        print(\"Singular vector no. \", i, \" is not significantly correlated with outcomes (\", c, \")\\n\")\n",
    "    end\n",
    "end"
   ]
  },
  {
   "cell_type": "code",
   "execution_count": null,
   "id": "47",
   "metadata": {},
   "outputs": [],
   "source": [
    "convlen = sum(X; dims=2)[:, 1]"
   ]
  },
  {
   "cell_type": "code",
   "execution_count": null,
   "id": "48",
   "metadata": {},
   "outputs": [],
   "source": [
    "cor(convlen, rowmeans[:, 1]) # the additive conversation main effect *is* significantly correlated with length"
   ]
  },
  {
   "cell_type": "code",
   "execution_count": null,
   "id": "49",
   "metadata": {},
   "outputs": [],
   "source": [
    "for i in 1:nfactors\n",
    "    c = cor(convlen, Ut[:, i])\n",
    "    if c > th\n",
    "        print(\"**Singular vector no. \", i, \" is significantly (positively) correlated with conv length (\", c, \")\\n\")\n",
    "    elseif c < -th\n",
    "        print(\"**Singular vector no. \", i, \" is significantly (negatively) correlated with conv length (\", c, \")\\n\")\n",
    "    else\n",
    "        print(\"Singular vector no. \", i, \" is not significantly correlated with conv length (\", c, \")\\n\")\n",
    "    end\n",
    "end"
   ]
  },
  {
   "cell_type": "code",
   "execution_count": null,
   "id": "50",
   "metadata": {},
   "outputs": [],
   "source": [
    "codefreq = sum(X; dims=1)[1, :]\n",
    "cor(codefreq, colmeans[1, :]) # the additive code-speaker main effect *is* significantly correlated with code frequency"
   ]
  },
  {
   "cell_type": "markdown",
   "id": "51",
   "metadata": {},
   "source": [
    "### Look at the dominant second and third singular vectors"
   ]
  },
  {
   "cell_type": "code",
   "execution_count": null,
   "id": "52",
   "metadata": {},
   "outputs": [],
   "source": [
    "# 2-3 biplot (dropping the first singular vector because it is highly \n",
    "# correlated with length but not outcome, so we feel like we can explain it)\n",
    "plot(; title=\"Biplot: Singular vectors 2 & 3\", xaxis=\"Second singular vector\", yaxis=\"Third singular vector\")\n",
    "scatter!(Ut[successes, 2], Ut[successes, 3]; color=1, label=\"Conversation (S)\")\n",
    "scatter!(Ut[.!successes, 2], Ut[.!successes, 3]; color=2, label=\"Conversation (F)\")\n",
    "scatter!(Vt[:, 2], Vt[:, 3]; color=3, label=\"Code-speaker\")"
   ]
  },
  {
   "cell_type": "code",
   "execution_count": null,
   "id": "53",
   "metadata": {},
   "outputs": [],
   "source": [
    "# Now just look at the conversations, for clarity. Based on the \n",
    "# correlations, successes should go in the bottom left corner (quadrant\n",
    "# III) and failures should go in the top right corner (quadrant I).\n",
    "# You can also kind of see that the red dot cloud is slightly below and \n",
    "# to the right of the blue dot cloud\n",
    "plot(; title=\"Conversations: Singular vectors 2 & 3\", xaxis=\"Second singular vector\", yaxis=\"Third singular vector\")\n",
    "scatter!(Ut[successes, 2], Ut[successes, 3]; color=1, label=\"Success\")\n",
    "scatter!(Ut[.!successes, 2], Ut[.!successes, 3]; color=2, label=\"Failure\")"
   ]
  },
  {
   "cell_type": "code",
   "execution_count": null,
   "id": "54",
   "metadata": {},
   "outputs": [],
   "source": [
    "# Code-speakers follow the analogous relationship, we we want to identify \n",
    "# the corresponding points from the 2-3 biplot\n",
    "plotlyjs()\n",
    "\n",
    "plt = plot()\n",
    "scatter!(Ut[successes, 2], Ut[successes, 3]; color=1, hover=\"\", label=\"Conversation (S)\", ma=0.7)\n",
    "scatter!(Ut[.!successes, 2], Ut[.!successes, 3]; color=2, hover=\"\", label=\"Conversation (F)\", ma=0.7)\n",
    "scatter!(Vt[:, 2], Vt[:, 3]; color=3, hover=names(da1)[5:end], label=\"Code-speaker\", ma=0.7)\n",
    "\n",
    "xlabel!(\"Second singular vector\")\n",
    "ylabel!(\"Third singular vector\")\n",
    "title!(\"Counts SVD biplot\")\n",
    "\n",
    "display(plt)\n",
    "gr()"
   ]
  },
  {
   "cell_type": "markdown",
   "id": "55",
   "metadata": {},
   "source": [
    "### Look at the dominant second and fourth singular vectors"
   ]
  },
  {
   "cell_type": "code",
   "execution_count": null,
   "id": "56",
   "metadata": {},
   "outputs": [],
   "source": [
    "# 2-4 biplot\n",
    "# Based on the correlations, successes should go in the top left corner\n",
    "# (quadrant II) and failures should go in the bottom right corner (quadrant IV)\n",
    "plot(; title=\"Biplot: Singular vectors 2 & 4\", xaxis=\"Second singular vector\", yaxis=\"Fourth singular vector\")\n",
    "scatter!(Ut[successes, 2], Ut[successes, 4]; color=1, label=\"Conversation (S)\")\n",
    "scatter!(Ut[.!successes, 2], Ut[.!successes, 4]; color=2, label=\"Conversation (F)\")\n",
    "scatter!(Vt[:, 2], Vt[:, 4]; color=3, label=\"Code-speaker\")"
   ]
  },
  {
   "cell_type": "code",
   "execution_count": null,
   "id": "57",
   "metadata": {},
   "outputs": [],
   "source": [
    "# Look at the plot if you don't believe me\n",
    "plot(; title=\"Conversations: Singular vectors 2 & 4\", xaxis=\"Second singular vector\", yaxis=\"Fourth singular vector\")\n",
    "scatter!(Ut[successes, 2], Ut[successes, 4]; color=1, label=\"Success\")\n",
    "scatter!(Ut[.!successes, 2], Ut[.!successes, 4]; color=2, label=\"Failure\")"
   ]
  },
  {
   "cell_type": "code",
   "execution_count": null,
   "id": "58",
   "metadata": {},
   "outputs": [],
   "source": [
    "# Identify corresponding codes\n",
    "plotlyjs()\n",
    "\n",
    "plt = plot()\n",
    "scatter!(Ut[successes, 2], Ut[successes, 4]; color=1, hover=\"\", label=\"Conversation (S)\", ma=0.7)\n",
    "scatter!(Ut[.!successes, 2], Ut[.!successes, 4]; color=2, hover=\"\", label=\"Conversation (F)\", ma=0.7)\n",
    "scatter!(Vt[:, 2], Vt[:, 4]; color=3, hover=names(da1)[5:end], label=\"Code-speaker\", ma=0.7)\n",
    "\n",
    "xlabel!(\"Second singular vector\")\n",
    "ylabel!(\"Fourth singular vector\")\n",
    "title!(\"Counts SVD biplot\")\n",
    "\n",
    "display(plt)\n",
    "gr()"
   ]
  },
  {
   "cell_type": "markdown",
   "id": "59",
   "metadata": {},
   "source": [
    "### Look at the dominant third and fourth singular vectors"
   ]
  },
  {
   "cell_type": "code",
   "execution_count": null,
   "id": "60",
   "metadata": {},
   "outputs": [],
   "source": [
    "# 3-4 biplot\n",
    "# Based on the correlations, successes should go in the top left corner\n",
    "# (quadrant II) and failures should go in the bottom right corner (quadrant IV)\n",
    "plot(; title=\"Biplot: Singular vectors 3 & 4\", xaxis=\"Third singular vector\", yaxis=\"Fourth singular vector\")\n",
    "scatter!(Ut[successes, 3], Ut[successes, 4]; color=1, label=\"Conversation (S)\")\n",
    "scatter!(Ut[.!successes, 3], Ut[.!successes, 4]; color=2, label=\"Conversation (F)\")\n",
    "scatter!(Vt[:, 3], Vt[:, 4]; color=3, label=\"Code-speaker\")"
   ]
  },
  {
   "cell_type": "code",
   "execution_count": null,
   "id": "61",
   "metadata": {},
   "outputs": [],
   "source": [
    "# Look at the plot if you don't believe me\n",
    "plot(; title=\"Conversations: Singular vectors 3 & 4\", xaxis=\"Third singular vector\", yaxis=\"Fourth singular vector\")\n",
    "scatter!(Ut[successes, 3], Ut[successes, 4]; color=1, label=\"Success\")\n",
    "scatter!(Ut[.!successes, 3], Ut[.!successes, 4]; color=2, label=\"Failure\")"
   ]
  },
  {
   "cell_type": "code",
   "execution_count": null,
   "id": "62",
   "metadata": {},
   "outputs": [],
   "source": [
    "# Identify corresponding codes\n",
    "plotlyjs()\n",
    "\n",
    "plt = plot()\n",
    "scatter!(Ut[successes, 3], Ut[successes, 4]; color=1, hover=\"\", label=\"Conversation (S)\", ma=0.7)\n",
    "scatter!(Ut[.!successes, 3], Ut[.!successes, 4]; color=2, hover=\"\", label=\"Conversation (F)\", ma=0.7)\n",
    "scatter!(Vt[:, 3], Vt[:, 4]; color=3, hover=names(da1)[5:end], label=\"Code-speaker\", ma=0.7)\n",
    "\n",
    "xlabel!(\"Third singular vector\")\n",
    "ylabel!(\"Fourth singular vector\")\n",
    "title!(\"Counts SVD biplot\")\n",
    "\n",
    "display(plt)\n",
    "gr()"
   ]
  },
  {
   "cell_type": "markdown",
   "id": "63",
   "metadata": {},
   "source": [
    "#### Orthogonal rotation so the horizontal axis represents the outcome gradient"
   ]
  },
  {
   "cell_type": "code",
   "execution_count": null,
   "id": "64",
   "metadata": {},
   "outputs": [],
   "source": [
    "# regression something something"
   ]
  },
  {
   "cell_type": "code",
   "execution_count": null,
   "id": "65",
   "metadata": {},
   "outputs": [],
   "source": []
  },
  {
   "cell_type": "code",
   "execution_count": null,
   "id": "66",
   "metadata": {},
   "outputs": [],
   "source": []
  },
  {
   "cell_type": "markdown",
   "id": "67",
   "metadata": {},
   "source": [
    "### Alternative approach: Induce sparsity with Varimax algorithm"
   ]
  },
  {
   "cell_type": "code",
   "execution_count": null,
   "id": "68",
   "metadata": {},
   "outputs": [],
   "source": [
    "function varimax(X::T; maxiter::Int=1000, eps::Float64=1e-6) where {T<:AbstractMatrix}\n",
    "\n",
    "    G = copy(X)\n",
    "    m, p = size(G)\n",
    "    Q = Matrix{Float64}(I(p))\n",
    "    if p < 2\n",
    "        return G, Q\n",
    "    end\n",
    "\n",
    "    d = 0.0\n",
    "    for i in 1:maxiter\n",
    "        z = G * Q\n",
    "        cs = sum(abs2, z; dims=1)[:]\n",
    "        dcs = Diagonal(cs / m)\n",
    "        B = G' * (z.^3 - z * dcs)\n",
    "        ss = svd(B)\n",
    "        Q .= ss.U * ss.V'\n",
    "        dlast = d\n",
    "        d = sum(ss.S)\n",
    "        if d < dlast * (1 + eps)\n",
    "            break\n",
    "        end\n",
    "    end\n",
    "\n",
    "    G .= G * Q\n",
    "\n",
    "    # Rescale so that the largest loading is positive\n",
    "    for j in 1:size(G, 2)\n",
    "        _, ii = findmax(abs2, G[:, j])\n",
    "        if G[ii, j] < 0\n",
    "            G[:, j] = -G[:, j]\n",
    "            Q[:, j] = -Q[:, j]\n",
    "        end\n",
    "    end\n",
    "\n",
    "    return G, Q\n",
    "end"
   ]
  },
  {
   "cell_type": "code",
   "execution_count": null,
   "id": "69",
   "metadata": {},
   "outputs": [],
   "source": [
    "jj = 2:nfactors\n",
    "m = length(jj)"
   ]
  },
  {
   "cell_type": "code",
   "execution_count": null,
   "id": "70",
   "metadata": {},
   "outputs": [],
   "source": [
    "Urot, QUrot = varimax(U[:, jj])\n",
    "Urot .*= sqrt(N)\n",
    "Vrot, QVrot = varimax(V[:, jj])\n",
    "Vrot .*= sqrt(p)\n",
    "Srot = QUrot' * Diagonal(s[jj]) * QVrot ./ sqrt(N*p)"
   ]
  },
  {
   "cell_type": "markdown",
   "id": "71",
   "metadata": {},
   "source": [
    "#### Check what happened to the sparsity (kurtosis)"
   ]
  },
  {
   "cell_type": "code",
   "execution_count": null,
   "id": "72",
   "metadata": {},
   "outputs": [],
   "source": []
  },
  {
   "cell_type": "code",
   "execution_count": null,
   "id": "73",
   "metadata": {},
   "outputs": [],
   "source": [
    "for i in 1:m\n",
    "    print(@sprintf \"U%d Kurtosis: %f.4 \\t %f.4\\n\" i kurtosis(U[:, i]) kurtosis(Urot[:, i]))\n",
    "    print(@sprintf \"V%d Kurtosis: %f.4 \\t %f.4\\n\\n\" i kurtosis(V[:, i]) kurtosis(Vrot[:, i]))\n",
    "end"
   ]
  },
  {
   "cell_type": "markdown",
   "id": "74",
   "metadata": {},
   "source": [
    "#### Check what happened to the correlations"
   ]
  },
  {
   "cell_type": "code",
   "execution_count": null,
   "id": "75",
   "metadata": {},
   "outputs": [],
   "source": [
    "for i in 1:m\n",
    "    c = cor(successes, Urot[:, i])\n",
    "    if c > th\n",
    "        print(\"**Score vector no. \", i, \" is significantly (positively) correlated with outcomes (\", c, \")\\n\")\n",
    "    elseif c < -th\n",
    "        print(\"**Score vector no. \", i, \" is significantly (negatively) correlated with outcomes (\", c, \")\\n\")\n",
    "    else\n",
    "        print(\"Score vector no. \", i, \" is not significantly correlated with outcomes (\", c, \")\\n\")\n",
    "    end\n",
    "end"
   ]
  },
  {
   "cell_type": "code",
   "execution_count": null,
   "id": "76",
   "metadata": {},
   "outputs": [],
   "source": [
    "for i in 1:m\n",
    "    c = cor(convlen, Urot[:, i])\n",
    "    if c > th\n",
    "        print(\"**Score vector no. \", i, \" is significantly (positively) correlated with conv length (\", c, \")\\n\")\n",
    "    elseif c < -th\n",
    "        print(\"**Score vector no. \", i, \" is significantly (negatively) correlated with conv length (\", c, \")\\n\")\n",
    "    else\n",
    "        print(\"Score vector no. \", i, \" is not significantly correlated with conv length (\", c, \")\\n\")\n",
    "    end\n",
    "end"
   ]
  },
  {
   "cell_type": "code",
   "execution_count": null,
   "id": "77",
   "metadata": {},
   "outputs": [],
   "source": [
    "j = 2 # index of the significant score vector"
   ]
  },
  {
   "cell_type": "markdown",
   "id": "78",
   "metadata": {},
   "source": [
    "#### Check for improved interpretability in the significant loading vector(s)"
   ]
  },
  {
   "cell_type": "code",
   "execution_count": null,
   "id": "79",
   "metadata": {},
   "outputs": [],
   "source": [
    "histogram(Vrot[:, j]; label=\"\", title=(@sprintf \"Sparsified factor %d loadings\" j), xaxis=\"Loading\", yaxis=\"Frequency\")"
   ]
  },
  {
   "cell_type": "code",
   "execution_count": null,
   "id": "80",
   "metadata": {},
   "outputs": [],
   "source": [
    "# get outlier indices\n",
    "k = 2\n",
    "iipos = [i for i in 1:p][Vrot[:, j] .> k]\n",
    "iineg = [i for i in 1:p][Vrot[:, j] .< -k]"
   ]
  },
  {
   "cell_type": "code",
   "execution_count": null,
   "id": "81",
   "metadata": {},
   "outputs": [],
   "source": [
    "# get corresponding variables\n",
    "# positive loadings on negative correlation, so these are bad for outcome\n",
    "names(da1)[5:end][iipos]"
   ]
  },
  {
   "cell_type": "code",
   "execution_count": null,
   "id": "82",
   "metadata": {},
   "outputs": [],
   "source": [
    "# these are good for outcome (wtf?)\n",
    "names(da1)[5:end][iineg]"
   ]
  },
  {
   "cell_type": "markdown",
   "id": "83",
   "metadata": {},
   "source": [
    "## Raw counts of things"
   ]
  },
  {
   "cell_type": "code",
   "execution_count": null,
   "id": "84",
   "metadata": {},
   "outputs": [],
   "source": [
    "codecountls = sum(X[:, 1:2:end] .+ X[:, 2:2:end] ; dims=1)[1, :]"
   ]
  },
  {
   "cell_type": "code",
   "execution_count": null,
   "id": "85",
   "metadata": {},
   "outputs": [],
   "source": [
    "annls = [v[1][3:end] for v in split.(names(da1)[5:2:end], \"\\', \\'\")]\n",
    "\n",
    "for ann in annls\n",
    "    print(ann, \"\\n\")\n",
    "end"
   ]
  },
  {
   "cell_type": "code",
   "execution_count": null,
   "id": "86",
   "metadata": {},
   "outputs": [],
   "source": [
    "for k in 11:14\n",
    "    print(annls[k], repeat(\" \", 75-length(annls[k])), codecountls[k], \"\\n\")\n",
    "end"
   ]
  },
  {
   "cell_type": "code",
   "execution_count": null,
   "id": "87",
   "metadata": {},
   "outputs": [],
   "source": [
    "for k in 16:23\n",
    "    print(annls[k], repeat(\" \", 75-length(annls[k])), codecountls[k], \"\\n\")\n",
    "end"
   ]
  },
  {
   "cell_type": "code",
   "execution_count": null,
   "id": "88",
   "metadata": {},
   "outputs": [],
   "source": [
    "for k in 24:26\n",
    "    print(annls[k], repeat(\" \", 75-length(annls[k])), codecountls[k], \"\\n\")\n",
    "end"
   ]
  },
  {
   "cell_type": "code",
   "execution_count": null,
   "id": "89",
   "metadata": {},
   "outputs": [],
   "source": [
    "for k in 27:41\n",
    "    print(annls[k], repeat(\" \", 75-length(annls[k])), codecountls[k], \"\\n\")\n",
    "end"
   ]
  },
  {
   "cell_type": "code",
   "execution_count": null,
   "id": "90",
   "metadata": {},
   "outputs": [],
   "source": [
    "for k in 42:46\n",
    "    print(annls[k], repeat(\" \", 75-length(annls[k])), codecountls[k], \"\\n\")\n",
    "end"
   ]
  },
  {
   "cell_type": "code",
   "execution_count": null,
   "id": "91",
   "metadata": {},
   "outputs": [],
   "source": [
    "for k in 47:48\n",
    "    print(annls[k], repeat(\" \", 75-length(annls[k])), codecountls[k], \"\\n\")\n",
    "end"
   ]
  },
  {
   "cell_type": "code",
   "execution_count": null,
   "id": "92",
   "metadata": {},
   "outputs": [],
   "source": []
  },
  {
   "cell_type": "markdown",
   "id": "93",
   "metadata": {},
   "source": [
    "## Sandbox"
   ]
  },
  {
   "cell_type": "code",
   "execution_count": null,
   "id": "94",
   "metadata": {},
   "outputs": [],
   "source": [
    "# sphericity isn't applicable -- here's why\n",
    "# covariance matrix and data dimensions\n",
    "R = cor(Xt)\n",
    "N, p = size(Xt)\n",
    "\n",
    "# Bartlett's sphericity statistic\n",
    "# T=−log(det(R))(N−1−(2p+5)/6)\n",
    "det(R) # is zero, so Bartlett's not valid"
   ]
  },
  {
   "cell_type": "code",
   "execution_count": null,
   "id": "95",
   "metadata": {},
   "outputs": [],
   "source": [
    "plotlyjs()\n",
    "#, extra_plot_kwargs = KW(:include_mathjax => \"cdn\")\n",
    "x = range(0, 10, length=100)\n",
    "y = sin.(x)\n",
    "y_noisy = @. sin(x) + 0.1*randn()\n",
    "\n",
    "# this plots into a standalone window via Plotly\n",
    "tmp = plot(x, y, label=\"sin(x)\", lc=:black, lw=2)\n",
    "scatter!(x, y_noisy, label=\"data\", mc=:red, ms=2, ma=0.5)\n",
    "plot!(legend=:bottomleft)\n",
    "title!(\"Sine with noise, plotted with Plotly\")\n",
    "xlabel!(\"x\")\n",
    "ylabel!(\"y\")\n",
    "display(tmp)\n",
    "gr()"
   ]
  },
  {
   "cell_type": "code",
   "execution_count": null,
   "id": "96",
   "metadata": {},
   "outputs": [],
   "source": [
    "# plotly latex stupidity (need to figure out how to set defaults)\n",
    "# https://docs.juliaplots.org/latest/backends/#MathJax"
   ]
  },
  {
   "cell_type": "code",
   "execution_count": null,
   "id": "97",
   "metadata": {},
   "outputs": [],
   "source": [
    "# https://juliagizmos.github.io/WebIO.jl/latest/providers/ijulia/\n",
    "\n",
    "#using GLMakie\n",
    "# I never figured out the c++ thing -- maybe revisit this once things are updated?\n",
    "# https://github.com/MakieOrg/Makie.jl/tree/master/GLMakie#troubleshooting-opengl.\n",
    "# https://github.com/microsoft/WSL/issues/2855#issuecomment-358861903\n",
    "# https://discourse.julialang.org/t/failed-to-precompile-makie/20758\n",
    "# https://discourse.julialang.org/t/how-to-use-glmakie-in-jupyter-notebook/83552\n",
    "# https://docs.makie.org/v0.21/tutorials/basic-tutorial#Getting-started-with-Makie\n",
    "# https://docs.makie.org/v0.21/\n",
    "\n",
    "# ]build GLMakie\n",
    "\n",
    "# import Pkg; Pkg.add(\"PlotlyJS\")"
   ]
  },
  {
   "cell_type": "code",
   "execution_count": null,
   "id": "98",
   "metadata": {},
   "outputs": [],
   "source": []
  }
 ],
 "metadata": {
  "@webio": {
   "lastCommId": "99eba2b8c99346388e41ecaae78ca406",
   "lastKernelId": "e9b0e6df-c2eb-49ae-b837-5ba2f92232c5"
  },
  "kernelspec": {
   "display_name": "Julia 1.9.3",
   "language": "julia",
   "name": "julia-1.9"
  },
  "language_info": {
   "file_extension": ".jl",
   "mimetype": "application/julia",
   "name": "julia",
   "version": "1.9.3"
  }
 },
 "nbformat": 4,
 "nbformat_minor": 5
}
