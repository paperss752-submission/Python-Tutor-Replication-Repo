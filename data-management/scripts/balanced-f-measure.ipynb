{
 "cells": [
  {
   "cell_type": "markdown",
   "id": "0",
   "metadata": {},
   "source": [
    "# IRR measurement"
   ]
  },
  {
   "cell_type": "markdown",
   "id": "1",
   "metadata": {},
   "source": [
    "## Flags"
   ]
  },
  {
   "cell_type": "code",
   "execution_count": null,
   "id": "2",
   "metadata": {},
   "outputs": [],
   "source": [
    "output = False\n",
    "\n",
    "input_version = 6\n",
    "output_version = 1"
   ]
  },
  {
   "cell_type": "markdown",
   "id": "3",
   "metadata": {},
   "source": [
    "## Baseline setup"
   ]
  },
  {
   "cell_type": "code",
   "execution_count": null,
   "id": "4",
   "metadata": {},
   "outputs": [],
   "source": [
    "import os\n",
    "import numpy as np\n",
    "import pandas as pd\n",
    "from itertools import chain, combinations"
   ]
  },
  {
   "cell_type": "code",
   "execution_count": null,
   "id": "5",
   "metadata": {},
   "outputs": [],
   "source": [
    "input_dir = \"../data-management/output/clean/v{}\".format(input_version)\n",
    "output_dir = \"v{}\".format(output_version)\n",
    "\n",
    "# plain text summary of the F-measure for each pair of coders, and averaged\n",
    "output_irr = \"IRR_Fmeasure.txt\"\n",
    "\n",
    "# F-measure and supporting statistics for each document and pair of coders on that document\n",
    "output_irrda = \"IRR_documentwise_pairwise_Fmeasure.csv\"\n",
    "# same as above, but sorted lowest to highest rather than grouped by coder and document names\n",
    "output_lowest_irrda = \"IRR_sorted_documentwise_pairwise_Fmeasure.csv\"\n",
    "# same as above, but excluding Manasvi because she won't be available for modifications\n",
    "output_active_coders_lowest_irrda = \"IRR_sorted_active_documentwise_pairwise_Fmeasure.csv\"\n",
    "\n",
    "# F-measure and supporting statistics for each code and pair of coders\n",
    "output_codewise_pairwise_irrda = \"IRR_codewise_pairwise_Fmeasure.csv\"\n",
    "# F-measure and supporting statistics for each code (I aggregated the coder pairs' a, b, and \n",
    "# c values first instead of straight averaging F-values because it was easier with the NaNs)\n",
    "output_codewise_irrda = \"IRR_codewise_Fmeasure.csv\"\n",
    "output_lowest_codewise_irrda = \"IRR_sorted_codewise_Fmeasure.csv\"\n",
    "\n",
    "# FIXME make a description file (e.g. what the inputs were)"
   ]
  },
  {
   "cell_type": "code",
   "execution_count": null,
   "id": "6",
   "metadata": {},
   "outputs": [],
   "source": [
    "if output:\n",
    "    try:\n",
    "        os.mkdir(output_dir)\n",
    "    except FileExistsError:\n",
    "        print(\"WARNING: output directory already exists. You might want to increment your version number.\")"
   ]
  },
  {
   "cell_type": "code",
   "execution_count": null,
   "id": "7",
   "metadata": {},
   "outputs": [],
   "source": [
    "# util for displaying dataframes\n",
    "# the defaults are actually 60 & 20, but that gets annoying\n",
    "def show(da, rows = 20, cols = 20):\n",
    "    pd.set_option(\"display.max_rows\", rows)\n",
    "    pd.set_option(\"display.max_columns\", cols)\n",
    "    display(da)\n",
    "    pd.reset_option(\"max_rows\")\n",
    "    pd.reset_option(\"max_columns\")"
   ]
  },
  {
   "cell_type": "code",
   "execution_count": null,
   "id": "8",
   "metadata": {},
   "outputs": [],
   "source": [
    "da1 = pd.read_csv(os.path.join(input_dir, \"annotations_data.csv\"))\n",
    "dda = pd.read_csv(os.path.join(input_dir, \"coders_per_document.csv\"))"
   ]
  },
  {
   "cell_type": "markdown",
   "id": "9",
   "metadata": {},
   "source": [
    "## Run a fixed-coders analysis on the documents coded by all three annotators"
   ]
  },
  {
   "attachments": {
    "image.png": {
     "image/png": "[encoded data removed]"
    }
   },
   "cell_type": "markdown",
   "id": "10",
   "metadata": {},
   "source": [
    "I am following the strategy from [Hripcsak and Rothschild 2005](https://www.ncbi.nlm.nih.gov/pmc/articles/PMC1090460/) (1028 Google Scholar citations). They take average pairwise F-statistics. Since we only have 3 pairs, I think we can skip the averaging step. Of note, I can't find any way that they calculate the expected coincidence rate. If possible, I would like to have something in this vein, but even if I follow Krippendorff's approach for that I'm not sure it's compatible with this.\n",
    "\n",
    "![Hripcsak and Rothschild, Table 1](https://www.ncbi.nlm.nih.gov/pmc/articles/PMC1090460/table/tbl1/?report=objectonly)\n",
    "\n",
    "![image.png](attachment:image.png)"
   ]
  },
  {
   "cell_type": "markdown",
   "id": "11",
   "metadata": {},
   "source": [
    "### First draft code (kinda spaghetti-ish)"
   ]
  },
  {
   "cell_type": "code",
   "execution_count": null,
   "id": "12",
   "metadata": {},
   "outputs": [],
   "source": [
    "def Fmeasure(a, b, c):\n",
    "    if 2*a + b + c == 0:\n",
    "        return np.NaN\n",
    "    return 2*a / (2*a + b + c)"
   ]
  },
  {
   "cell_type": "code",
   "execution_count": null,
   "id": "13",
   "metadata": {},
   "outputs": [],
   "source": [
    "def Fmeasure(a, b, c):\n",
    "    return np.where(2*a + b + c == 0, np.NaN, 2*a / (2*a + b + c))"
   ]
  },
  {
   "cell_type": "code",
   "execution_count": null,
   "id": "14",
   "metadata": {},
   "outputs": [],
   "source": [
    "# return counts for pos/pos, pos/neg, neg/pos (neg/neg is undefined in this strategy)\n",
    "# I am using relaxed span matches here\n",
    "# I am assuming that the data1 and data2 dataframes each contain at least one annotation in \n",
    "# each document present (i.e. agree exactly on which documents to include) and visit those\n",
    "# documents in the same order\n",
    "# I think I am also assuming no exact coder/doc/start/end/label duplicates, but I'm not sure\n",
    "# if this impacts anything\n",
    "def agreement(data1, data2, docCol, labelCol, startCol, endCol):\n",
    "    \n",
    "    # utility to help handle incrementing pointers\n",
    "    def entryInfo(data, idx, \n",
    "                  docCol = docCol, labelCol = labelCol, \n",
    "                  startCol = startCol, endCol = endCol):\n",
    "        return data.loc[idx, docCol], data.loc[idx, startCol], data.loc[idx, endCol], data.loc[idx, labelCol]\n",
    "    \n",
    "    # utility that does most of the work\n",
    "    def oneway(data1, data2, docCol = docCol, labelCol = labelCol, \n",
    "               startCol = startCol, endCol = endCol):\n",
    "        # edge case\n",
    "        if data2.shape[0] == 0:\n",
    "            return 0, data1.shape[0]\n",
    "        \n",
    "        # initialize return values\n",
    "        a, x = 0, 0\n",
    "\n",
    "        # initialize data2 pointer (to be incremented manually)\n",
    "        j = 0\n",
    "        jdoc, jstart, jend, jlab = entryInfo(data2, j) # consider this to be a sort of flattened dictionary order\n",
    "\n",
    "        # this is a loop over the data1 pointer (incremented automatically)\n",
    "        for i in range(data1.shape[0]):\n",
    "            idoc, istart, iend, ilab = entryInfo(data1, i)\n",
    "            \n",
    "            # move to the correct document\n",
    "            while j < data2.shape[0] and jdoc < idoc:\n",
    "                j += 1\n",
    "                if j < data2.shape[0]:\n",
    "                    jdoc, jstart, jend, jlab = entryInfo(data2, j)\n",
    "\n",
    "            # move to/past the correct time interval\n",
    "            while j < data2.shape[0] and jdoc == idoc and jend <= istart:\n",
    "                j += 1\n",
    "                if j < data2.shape[0]:\n",
    "                    jdoc, jstart, jend, jlab = entryInfo(data2, j)\n",
    "            \n",
    "            k, kdoc, kstart, kend, klab = j, jdoc, jstart, jend, jlab\n",
    "            matched = False\n",
    "            \n",
    "            while k < data2.shape[0] and kdoc == idoc and kstart < iend:\n",
    "                # this is the pos/pos case\n",
    "                if ((istart <= kstart < iend or istart < kend <= iend) or \n",
    "                    (kstart <= istart < iend <= kend)) and ilab == klab:\n",
    "                    a += 1\n",
    "                    matched = True\n",
    "                \n",
    "                # increment\n",
    "                k += 1\n",
    "                if k < data2.shape[0]:\n",
    "                    kdoc, kstart, kend, klab = entryInfo(data2, k)\n",
    "            \n",
    "            # this is the pos/neg case\n",
    "            if not matched:\n",
    "                x += 1\n",
    "        \n",
    "        return a, x\n",
    "        \n",
    "    # now check both directions\n",
    "    a1, b = oneway(data1, data2)\n",
    "    a2, c = oneway(data2, data1)\n",
    "    assert(a1 == a2)\n",
    "\n",
    "    return a1, b, c"
   ]
  },
  {
   "cell_type": "code",
   "execution_count": null,
   "id": "15",
   "metadata": {},
   "outputs": [],
   "source": [
    "# beta = 1 as that's what they did in the paper\n",
    "def pairwiseF(annDa, docDa, coder1, coder2, coderCol = \"annotation.creatingUser\", \n",
    "              docCol = \"document.name\", labelCol = \"annotation.code\", \n",
    "              startCol = \"quote.startPosition\", endCol = \"quote.endPosition\"):\n",
    "    \n",
    "    # identify only the relevant documents for this pairwise comparison\n",
    "    commonDocs = docDa[docDa[coder1] & docDa[coder2]][docCol]\n",
    "    \n",
    "    # now get the relevant annotations from the relevant documents\n",
    "    posda1 = annDa[annDa[docCol].isin(commonDocs) & \n",
    "                   (annDa[coderCol] == coder1)].sort_values(by=[docCol, startCol, endCol]).reset_index(drop=True)\n",
    "    posda2 = annDa[annDa[docCol].isin(commonDocs) & \n",
    "                   (annDa[coderCol] == coder2)].sort_values(by=[docCol, startCol, endCol]).reset_index(drop=True)\n",
    "    \n",
    "    a, b, c = agreement(posda1, posda2, docCol = docCol, labelCol = labelCol, \n",
    "                        startCol = startCol, endCol = endCol)\n",
    "    \n",
    "    if a == 0 and b == 0 and c == 0:\n",
    "        print(\"Warning: all zeros\")\n",
    "        #return None\n",
    "    \n",
    "    return Fmeasure(a, b, c), a, b, c, posda1.shape[0], posda2.shape[0]"
   ]
  },
  {
   "cell_type": "code",
   "execution_count": null,
   "id": "16",
   "metadata": {},
   "outputs": [],
   "source": [
    "# try one example\n",
    "f, a, b, c, n1, n2 = pairwiseF(da1, dda, \"Annotator_1\", \"Annotator_2\")\n",
    "f"
   ]
  },
  {
   "cell_type": "code",
   "execution_count": null,
   "id": "17",
   "metadata": {},
   "outputs": [],
   "source": [
    "da1[\"annotation.code\"].unique()"
   ]
  },
  {
   "cell_type": "code",
   "execution_count": null,
   "id": "18",
   "metadata": {},
   "outputs": [],
   "source": [
    "da3 = da1[~da1[\"annotation.code\"].str.startswith(\"Big picture of an interaction > resolveRequest\") & \n",
    "          ~da1[\"annotation.code\"].str.startswith(\"General message attributes > speaker\") & \n",
    "          #~da1[\"annotation.code\"].str.startswith(\"Questions > specificity\") & \n",
    "          ~da1[\"annotation.code\"].str.startswith(\"Explanations and help > confidenceLevel > phrasedAsQuestion\")]"
   ]
  },
  {
   "cell_type": "code",
   "execution_count": null,
   "id": "19",
   "metadata": {},
   "outputs": [],
   "source": [
    "# do all the pairs\n",
    "num = 0\n",
    "denom = 0\n",
    "outputstr = \"\"\n",
    "\n",
    "for i, coder1 in enumerate(indicators[:, 0]):\n",
    "    for coder2 in indicators[i+1:, 0]:\n",
    "        outputstr += \"{} vs {}\\n\".format(coder1, coder2)\n",
    "        f, a, b, c, n1, n2 = pairwiseF(da3, dda, coder1, coder2)\n",
    "        currstr = \"f = {}\\na = {}\\nb = {}\\nc = {}\\nn1 = {}\\nn2 = {}\\n\\n\".format(f, a, b, c, n1, n2)\n",
    "        outputstr += currstr\n",
    "        #print(currstr)\n",
    "        \n",
    "        num += f\n",
    "        denom += 1\n",
    "\n",
    "outputstr += \"Overall average: {}\\n\".format(num/denom)\n",
    "print(outputstr)"
   ]
  },
  {
   "cell_type": "code",
   "execution_count": null,
   "id": "20",
   "metadata": {},
   "outputs": [],
   "source": [
    "if output:\n",
    "    f = open(os.path.join(output_irr_dir, output_irr), \"w\")\n",
    "    f.write(outputstr)\n",
    "    f.close()"
   ]
  },
  {
   "cell_type": "code",
   "execution_count": null,
   "id": "21",
   "metadata": {},
   "outputs": [],
   "source": [
    "# DONE filter out success annotations before checking this (also pull new data)\n",
    "# separately check whether people agree on success/failure (and number of requests)\n",
    "# might need to account for whether people agree on the number \n",
    "# of requests within a chat (remember there could be multiple successes per document)"
   ]
  },
  {
   "cell_type": "code",
   "execution_count": null,
   "id": "22",
   "metadata": {},
   "outputs": [],
   "source": [
    "# turns out this is theoretically equivalent to the previous thing, according to the primary paper I'm referencing\n",
    "def positiveSpecificAgreement(data, coder1, coder2):\n",
    "    pass"
   ]
  },
  {
   "cell_type": "markdown",
   "id": "23",
   "metadata": {},
   "source": [
    "### Second draft"
   ]
  },
  {
   "cell_type": "code",
   "execution_count": null,
   "id": "24",
   "metadata": {},
   "outputs": [],
   "source": [
    "# beta = 1 as that's what they did in the paper\n",
    "def documentwisePairwiseF(annDa, docDa, coder1, coder2, coderCol = \"annotation.creatingUser\", \n",
    "              docCol = \"document.name\", labelCol = \"annotation.code\", \n",
    "              startCol = \"quote.startPosition\", endCol = \"quote.endPosition\"):\n",
    "\n",
    "    # identify only the relevant documents for this pairwise comparison\n",
    "    commonDocs = docDa[docDa[coder1] & docDa[coder2]][docCol] # a Series\n",
    "    \n",
    "    arr = np.empty((len(commonDocs), 5), dtype=np.int16)\n",
    "    aa, bb, cc, nn1, nn2 = 0, 0, 0, 0, 0\n",
    "    \n",
    "    # loop over all the relevant documents\n",
    "    for idx, doc in enumerate(commonDocs):\n",
    "        # now get the relevant annotations\n",
    "        posda1 = annDa[(annDa[docCol] == doc) & \n",
    "                       (annDa[coderCol] == coder1)].sort_values(by=[docCol, startCol, endCol]).reset_index(drop=True)\n",
    "        posda2 = annDa[(annDa[docCol] == doc) & \n",
    "                       (annDa[coderCol] == coder2)].sort_values(by=[docCol, startCol, endCol]).reset_index(drop=True)\n",
    "\n",
    "        a, b, c = agreement(posda1, posda2, docCol = docCol, labelCol = labelCol, \n",
    "                            startCol = startCol, endCol = endCol)\n",
    "        \n",
    "        arr[idx] = [a, b, c, posda1.shape[0], posda2.shape[0]]\n",
    "        \n",
    "        aa += a\n",
    "        bb += b\n",
    "        cc += c\n",
    "        nn1 += posda1.shape[0]\n",
    "        nn2 += posda2.shape[0]\n",
    "    \n",
    "    if aa == 0 and bb == 0 and cc == 0:\n",
    "        print(\"Warning: all zeros\")\n",
    "        return None\n",
    "    \n",
    "    #return 2*aa / (2*aa + bb + cc), aa, bb, cc, nn1, nn2\n",
    "    tmp = pd.DataFrame(data=commonDocs)\n",
    "    return pd.concat([tmp, pd.DataFrame(data=arr, columns=[\"a\", \"b\", \"c\", \"n1\", \"n2\"]).set_index(tmp.index)], \n",
    "                     axis=\"columns\")"
   ]
  },
  {
   "cell_type": "code",
   "execution_count": null,
   "id": "25",
   "metadata": {},
   "outputs": [],
   "source": [
    "# try one example\n",
    "tmp = documentwisePairwiseF(da3, dda, \"Annotator_1\", \"Annotator_2\")\n",
    "show(tmp, rows=3)"
   ]
  },
  {
   "cell_type": "code",
   "execution_count": null,
   "id": "26",
   "metadata": {},
   "outputs": [],
   "source": [
    "# do all the pairs\n",
    "irrda = None\n",
    "\n",
    "for i, coder1 in enumerate(indicators[:, 0]):\n",
    "    for coder2 in indicators[i+1:, 0]:\n",
    "        tmp = documentwisePairwiseF(da3, dda, coder1, coder2)\n",
    "        \n",
    "        tmp[\"coder1\"] = coder1\n",
    "        tmp[\"coder2\"] = coder2\n",
    "        \n",
    "        if irrda is None:\n",
    "            irrda = tmp\n",
    "        else:\n",
    "            irrda = pd.concat([irrda, tmp], axis=0) # vertically\n",
    "\n",
    "irrda = irrda[[\"document.name\", \"coder1\", \"coder2\", \"a\", \"b\", \"c\", \"n1\", \"n2\"]]\n",
    "show(irrda, rows=6)"
   ]
  },
  {
   "cell_type": "code",
   "execution_count": null,
   "id": "27",
   "metadata": {},
   "outputs": [],
   "source": [
    "irrda[\"F-measure\"] = Fmeasure(irrda[\"a\"], irrda[\"b\"], irrda[\"c\"])\n",
    "show(irrda)"
   ]
  },
  {
   "cell_type": "code",
   "execution_count": null,
   "id": "28",
   "metadata": {},
   "outputs": [],
   "source": [
    "n = 10\n",
    "irrda[(irrda[\"coder1\"] != \"Manasvi Parikh\") & (irrda[\"coder2\"] != \"Manasvi Parikh\")].nsmallest(n, \"F-measure\", keep=\"all\")"
   ]
  },
  {
   "cell_type": "code",
   "execution_count": null,
   "id": "29",
   "metadata": {},
   "outputs": [],
   "source": [
    "# output_irr_dir = os.path.join(output_dir, \"IRR\")\n",
    "\n",
    "# output_irr = \"IRR_Fmeasure.txt\"\n",
    "# output_irrda = \"IRR_documentwise_pairwise_Fmeasure.csv\"\n",
    "# output_lowest_irrda = \"IRR_sorted_documentwise_pairwise_Fmeasure.csv\"\n",
    "# output_active_coders_lowest_irrda = \"IRR_sorted_active_documentwise_pairwise_Fmeasure.csv\"\n",
    "\n",
    "if output:\n",
    "    irrda.to_csv(os.path.join(output_irr_dir, output_irrda))\n",
    "    irrda.sort_values(by=\"F-measure\").to_csv(os.path.join(output_irr_dir, output_lowest_irrda))\n",
    "    irrda[(irrda[\"coder1\"] != \"Manasvi Parikh\") & \n",
    "          (irrda[\"coder2\"] != \"Manasvi Parikh\")].sort_values(by=\"F-measure\").to_csv(\n",
    "        os.path.join(output_irr_dir, output_active_coders_lowest_irrda))"
   ]
  },
  {
   "cell_type": "code",
   "execution_count": null,
   "id": "30",
   "metadata": {},
   "outputs": [],
   "source": [
    "from matplotlib import pyplot as plt"
   ]
  },
  {
   "cell_type": "code",
   "execution_count": null,
   "id": "31",
   "metadata": {},
   "outputs": [],
   "source": [
    "plt.figure(figsize=(12, 5), dpi=80)\n",
    "plt.hist(irrda[\"F-measure\"], bins=20)\n",
    "plt.xlabel(\"document-coder-pairs\", fontsize=18)\n",
    "plt.ylabel(\"F-measure (%)\", fontsize=18)\n",
    "plt.show()"
   ]
  },
  {
   "cell_type": "code",
   "execution_count": null,
   "id": "32",
   "metadata": {},
   "outputs": [],
   "source": [
    "xx = 2*irrda[\"a\"] + irrda[\"b\"] + irrda[\"c\"]\n",
    "plt.scatter(xx, 2*irrda[\"a\"])\n",
    "\n",
    "xmin, xmax = int(np.floor(min(xx))), int(np.ceil(max(xx)))\n",
    "xx = np.array(range(xmin, xmax+1, (xmax-xmin) // 100))\n",
    "yy = (num/denom) * xx\n",
    "plt.plot(xx, yy, color=\"orange\")\n",
    "\n",
    "plt.xlabel(\"2a + b + c\", fontsize=18)\n",
    "plt.ylabel(\"2a\", fontsize=18)\n",
    "plt.show()"
   ]
  },
  {
   "cell_type": "code",
   "execution_count": null,
   "id": "33",
   "metadata": {},
   "outputs": [],
   "source": [
    "precision = irrda[\"a\"] / (irrda[\"a\"] + irrda[\"b\"])\n",
    "recall = irrda[\"a\"] / (irrda[\"a\"] + irrda[\"c\"])\n",
    "plt.scatter(recall, precision)\n",
    "\n",
    "# scale = 100\n",
    "# xmin, xmax = int(np.floor(min(recall)*scale)), int(np.ceil(max(recall)*scale))\n",
    "# xx = np.array(range(xmin, xmax+1, (xmax-xmin) // 10)) / scale\n",
    "# yy = (num/denom) * xx\n",
    "# plt.plot(xx, yy, color=\"orange\")\n",
    "\n",
    "plt.xlabel(\"Recall\", fontsize=18)\n",
    "plt.ylabel(\"Precision\", fontsize=18)\n",
    "plt.show()"
   ]
  },
  {
   "cell_type": "code",
   "execution_count": null,
   "id": "34",
   "metadata": {},
   "outputs": [],
   "source": [
    "plt.scatter(irrda[\"n1\"], irrda[\"n2\"])\n",
    "plt.xlabel(\"Number of annotations by Coder 1\", fontsize=14)\n",
    "plt.ylabel(\"Number of annotations by Coder 2\", fontsize=14)\n",
    "plt.show()"
   ]
  },
  {
   "cell_type": "markdown",
   "id": "35",
   "metadata": {},
   "source": [
    "## Code-specific IRR"
   ]
  },
  {
   "cell_type": "code",
   "execution_count": null,
   "id": "36",
   "metadata": {},
   "outputs": [],
   "source": [
    "# do all the pairs\n",
    "num = 0\n",
    "denom = 0\n",
    "outputstr = \"\"\n",
    "\n",
    "codes = da3[\"annotation.code\"].unique()\n",
    "codes.sort()\n",
    "#codes = codes[:2]\n",
    "\n",
    "ncoders = indicators.shape[0]\n",
    "height = (len(codes) * ncoders * (ncoders - 1)) // 2\n",
    "\n",
    "#arr = np.empty((len(codes) * ncoders**2, 5), dtype=np.int64)\n",
    "labels = np.empty((height, 3), dtype=object)\n",
    "arr = np.empty((height, 5), dtype=np.int64)\n",
    "idx = 0\n",
    "\n",
    "for code in codes:\n",
    "    outputstr += \"Code: {}\\n\".format(code)\n",
    "    for i, coder1 in enumerate(indicators[:, 0]):\n",
    "        #for coder2 in indicators[:, 0]:\n",
    "        for coder2 in indicators[i+1:, 0]:\n",
    "            outputstr += \"\\t{} vs {}\\n\".format(coder1, coder2)\n",
    "            f, a, b, c, n1, n2 = pairwiseF(da3[da3[\"annotation.code\"] == code], dda, coder1, coder2)\n",
    "            currstr = \"\\t\\tf = {}\\n\\t\\ta = {}\\n\\t\\tb = {}\\n\\t\\tc = {}\\n\\t\\tn1 = {}\\n\\t\\tn2 = {}\\n\".format(f, a, b, c, n1, n2)\n",
    "            outputstr += currstr\n",
    "            #print(currstr)\n",
    "            labels[idx] = [code, coder1, coder2]\n",
    "            arr[idx] = [a, b, c, n1, n2]\n",
    "            idx += 1\n",
    "\n",
    "            num += f\n",
    "            denom += 1\n",
    "    outputstr += \"\\n\"\n",
    "\n",
    "outputstr += \"Overall average: {}\\n\".format(num/denom)\n",
    "print(outputstr)\n",
    "\n",
    "#tmp_code = np.repeat(codes, ncoders**2)\n",
    "#tmp_coder1 = np.tile(np.repeat(indicators[:, 0], indicators.shape[0]), len(codes))\n",
    "#tmp_coder2 = np.tile(indicators[:, 0], len(codes) * indicators.shape[0])\n",
    "\n",
    "#tmp_da = pd.DataFrame({\"annotation.code\" : tmp_code, \"coder1\" : tmp_coder1, \"coder2\" : tmp_coder2})\n",
    "tmp_da = pd.DataFrame(data=labels, columns=[\"annotation.code\", \"coder1\", \"coder2\"])\n",
    "\n",
    "codewise_pairwise_irrda = pd.concat([tmp_da, \n",
    "                                     pd.DataFrame(data=arr, columns=[\"a\", \"b\", \"c\", \"n1\", \"n2\"]).set_index(tmp_da.index)], \n",
    "                                    axis=\"columns\")\n"
   ]
  },
  {
   "cell_type": "code",
   "execution_count": null,
   "id": "37",
   "metadata": {},
   "outputs": [],
   "source": [
    "#codewise_pairwise_irrda[\"f\"] = Fmeasure(codewise_pairwise_irrda[\"a\"], codewise_pairwise_irrda[\"b\"], codewise_pairwise_irrda[\"c\"])\n",
    "codewise_pairwise_irrda[\"f\"] = None\n",
    "for row in range(codewise_pairwise_irrda.shape[0]):\n",
    "    codewise_pairwise_irrda.loc[row, \"f\"] = Fmeasure(codewise_pairwise_irrda.loc[row, \"a\"], \n",
    "                                                     codewise_pairwise_irrda.loc[row, \"b\"], \n",
    "                                                     codewise_pairwise_irrda.loc[row, \"c\"])\n",
    "codewise_pairwise_irrda"
   ]
  },
  {
   "cell_type": "code",
   "execution_count": null,
   "id": "38",
   "metadata": {},
   "outputs": [],
   "source": [
    "# convert from 0-dimensional array values to scalar values (I know, it's stupid)\n",
    "codewise_pairwise_irrda[\"f\"] = codewise_pairwise_irrda[\"f\"].map(lambda x: x.item())"
   ]
  },
  {
   "cell_type": "code",
   "execution_count": null,
   "id": "39",
   "metadata": {},
   "outputs": [],
   "source": [
    "codewise_pairwise_irrda.sort_values(by=[\"f\", \"annotation.code\", \"coder1\", \"coder2\"])"
   ]
  },
  {
   "cell_type": "code",
   "execution_count": null,
   "id": "40",
   "metadata": {},
   "outputs": [],
   "source": [
    "# not relevant since I'm excluding these rows at the computation stage now\n",
    "#codewise_pairwise_irrda[codewise_pairwise_irrda[\"coder1\"] == codewise_pairwise_irrda[\"coder2\"]][\"f\"].value_counts()"
   ]
  },
  {
   "cell_type": "code",
   "execution_count": null,
   "id": "41",
   "metadata": {},
   "outputs": [],
   "source": [
    "#codewise_pairwise_irrda = codewise_pairwise_irrda[codewise_pairwise_irrda[\"coder1\"] != codewise_pairwise_irrda[\"coder2\"]].reset_index(drop=True)\n",
    "#codewise_pairwise_irrda"
   ]
  },
  {
   "cell_type": "code",
   "execution_count": null,
   "id": "42",
   "metadata": {},
   "outputs": [],
   "source": [
    "codewise_irrda = codewise_pairwise_irrda[[\"annotation.code\", \n",
    "                                          \"a\", \"b\", \"c\", \"n1\", \"n2\"]].groupby(by=\"annotation.code\").agg(\"sum\").reset_index()\n",
    "\n",
    "codewise_irrda[\"f\"] = None\n",
    "for row in range(codewise_irrda.shape[0]):\n",
    "    codewise_irrda.loc[row, \"f\"] = Fmeasure(codewise_irrda.loc[row, \"a\"], \n",
    "                                            codewise_irrda.loc[row, \"b\"], \n",
    "                                            codewise_irrda.loc[row, \"c\"])\n",
    "\n",
    "sorted_codewise_irrda = codewise_irrda.sort_values(by=[\"f\"]).reset_index(drop=True)\n",
    "show(sorted_codewise_irrda, rows=8)"
   ]
  },
  {
   "cell_type": "code",
   "execution_count": null,
   "id": "43",
   "metadata": {},
   "outputs": [],
   "source": []
  },
  {
   "cell_type": "code",
   "execution_count": null,
   "id": "44",
   "metadata": {},
   "outputs": [],
   "source": [
    "# debugging the NaN problem"
   ]
  },
  {
   "cell_type": "code",
   "execution_count": null,
   "id": "45",
   "metadata": {},
   "outputs": [],
   "source": [
    "codewise_pairwise_irrda[codewise_pairwise_irrda[\"f\"].isna()]"
   ]
  },
  {
   "cell_type": "code",
   "execution_count": null,
   "id": "46",
   "metadata": {},
   "outputs": [],
   "source": [
    "na_codes = codewise_pairwise_irrda[codewise_pairwise_irrda[\"f\"].isna()][\"annotation.code\"].unique()\n",
    "na_codes"
   ]
  },
  {
   "cell_type": "code",
   "execution_count": null,
   "id": "47",
   "metadata": {},
   "outputs": [],
   "source": [
    "# so now we take a straightforward average (like in the paper) but without these two tags\n",
    "# b, c, n1, and n2 are pretty much meaningless (unless combined, which I don't know how \n",
    "# to do off the top of my head and I don't really feel like trying to figure it out atm)\n",
    "codewise_irrda2 = codewise_pairwise_irrda[\n",
    "    ~codewise_pairwise_irrda[\"annotation.code\"].isin(na_codes)].groupby(\n",
    "    by=\"annotation.code\").agg({\"a\" : \"sum\", \n",
    "                               \"b\" : \"sum\", \n",
    "                               \"c\" : \"sum\", \n",
    "                               \"n1\" : \"sum\", \n",
    "                               \"n2\" : \"sum\", \n",
    "                               \"f\" : \"mean\"}).reset_index()\n",
    "\n",
    "show(codewise_irrda2.sort_values(by=[\"f\", \"annotation.code\"]), rows=12)"
   ]
  },
  {
   "cell_type": "code",
   "execution_count": null,
   "id": "48",
   "metadata": {},
   "outputs": [],
   "source": [
    "pd.set_option(\"display.max_colwidth\", None)\n",
    "display(codewise_irrda2.sort_values(by=[\"f\", \"annotation.code\"]))\n",
    "pd.reset_option(\"display.max_colwidth\")"
   ]
  },
  {
   "cell_type": "code",
   "execution_count": null,
   "id": "49",
   "metadata": {},
   "outputs": [],
   "source": [
    "# I've now decided that version 2 of the codewise IRR da makes more sense than version 1 so I'm switching"
   ]
  },
  {
   "cell_type": "code",
   "execution_count": null,
   "id": "50",
   "metadata": {},
   "outputs": [],
   "source": []
  },
  {
   "cell_type": "code",
   "execution_count": null,
   "id": "51",
   "metadata": {},
   "outputs": [],
   "source": [
    "# output_codewise_pairwise_irrda = \"IRR_codewise_pairwise_Fmeasure.csv\"\n",
    "# output_codewise_irrda = \"IRR_codewise_Fmeasure.csv\"\n",
    "# output_lowest_codewise_irrda = \"IRR_sorted_codewise_Fmeasure.csv\"\n",
    "\n",
    "if output:\n",
    "    codewise_pairwise_irrda.to_csv(os.path.join(output_irr_dir, output_codewise_pairwise_irrda))\n",
    "    codewise_irrda.to_csv(os.path.join(output_irr_dir, output_codewise_irrda))\n",
    "    sorted_codewise_irrda.to_csv(os.path.join(output_irr_dir, output_lowest_codewise_irrda))\n",
    "    \n",
    "    codewise_irrda2.to_csv(os.path.join(output_irr_dir, output_codewise_irrda.split(\".\")[0] + \"2.csv\"))\n",
    "    codewise_irrda2.sort_values(by=[\"f\", \"annotation.code\"]).reset_index(drop=True).to_csv(\n",
    "        os.path.join(output_irr_dir, output_lowest_codewise_irrda.split(\".\")[0] + \"2.csv\"))"
   ]
  },
  {
   "cell_type": "code",
   "execution_count": null,
   "id": "52",
   "metadata": {},
   "outputs": [],
   "source": []
  },
  {
   "cell_type": "markdown",
   "id": "53",
   "metadata": {},
   "source": [
    "## Scraps"
   ]
  },
  {
   "cell_type": "code",
   "execution_count": null,
   "id": "54",
   "metadata": {},
   "outputs": [],
   "source": [
    "print(da1[da1[\"annotation.creatingUser\"].isin({\"Annotator_1\", \"Annotator_2\"})].shape)\n",
    "da1[(da1[\"annotation.creatingUser\"] == \"Annotator_1\") | (da1[\"annotation.creatingUser\"] == \"Annotator_2\")].shape"
   ]
  },
  {
   "cell_type": "code",
   "execution_count": null,
   "id": "55",
   "metadata": {},
   "outputs": [],
   "source": [
    "len(dda.iloc[0]) == len(dda.columns)"
   ]
  },
  {
   "cell_type": "code",
   "execution_count": null,
   "id": "56",
   "metadata": {},
   "outputs": [],
   "source": [
    "dda.loc[0, \"document.creatingUser\"]"
   ]
  },
  {
   "cell_type": "code",
   "execution_count": null,
   "id": "57",
   "metadata": {},
   "outputs": [],
   "source": [
    "for k in range(dda.shape[0]):\n",
    "    row = dda.iloc[k]\n",
    "    show(row)"
   ]
  },
  {
   "cell_type": "code",
   "execution_count": null,
   "id": "58",
   "metadata": {},
   "outputs": [],
   "source": []
  },
  {
   "cell_type": "code",
   "execution_count": null,
   "id": "59",
   "metadata": {},
   "outputs": [],
   "source": [
    "np.sort(da1[\"annotation.code\"].unique())"
   ]
  },
  {
   "cell_type": "code",
   "execution_count": null,
   "id": "60",
   "metadata": {},
   "outputs": [],
   "source": [
    "(3 + 6 + 4 + 2 + (8 * 2 * 2 * 14) + (5 * 2 * 14)) * 2 * 3 * 133"
   ]
  },
  {
   "cell_type": "code",
   "execution_count": null,
   "id": "61",
   "metadata": {},
   "outputs": [],
   "source": [
    "# test version\n",
    "testDa = pd.DataFrame(data={\"coder\"  : [\"Alice\", \"Bob\", \"Bob\",   \"Bob\"], \n",
    "                            \"doc\"    : [\"one\",   \"one\", \"one\",   \"one\"], \n",
    "                            \"label\"  : [\"x\",     \"x\",   \"x\",     \"x\"], \n",
    "                            \"start\"  : [1,       3,     9,       10], \n",
    "                            \"end\"    : [3,       10,    11,      12]})\n",
    "\n",
    "testDda = pd.DataFrame(data={\"doc\"   : [\"one\"], \n",
    "                             \"Alice\" : [True], \n",
    "                             \"Bob\"   : [True]})\n",
    "\n",
    "pairwiseF(testDa, testDda, \"Alice\", \"Bob\", \"coder\", \"doc\", \"label\", \"start\", \"end\")"
   ]
  },
  {
   "cell_type": "code",
   "execution_count": null,
   "id": "62",
   "metadata": {},
   "outputs": [],
   "source": [
    "s = 2639\n",
    "dl = 73\n",
    "dh = -28\n",
    "testda = da1.iloc[s-dl:s+dh].reset_index(drop=True)\n",
    "testda.shape"
   ]
  },
  {
   "cell_type": "code",
   "execution_count": null,
   "id": "63",
   "metadata": {},
   "outputs": [],
   "source": [
    "# real test version\n",
    "documentinfo = list(filter(lambda col : col.startswith(\"document.\"), testda.columns))\n",
    "testdda = testda.groupby(by=\"document.name\", \n",
    "                         as_index=False).agg({**{col : [lambda x : x.iloc[0]] for col in documentinfo}, \n",
    "                                              **{\"annotation.creatingUser\" : indicators[:, 1]}})\n",
    "testdda.columns = np.concatenate((testdda.columns.get_level_values(level=0)[:-len(indicators[:, 0])], # other metadata fields\n",
    "                                  indicators[:, 0])) # people names\n",
    "testdda"
   ]
  },
  {
   "cell_type": "code",
   "execution_count": null,
   "id": "64",
   "metadata": {},
   "outputs": [],
   "source": [
    "\"2I1pDSUuKI.txt\" < \"4RgDwDpNx3.txt\""
   ]
  },
  {
   "cell_type": "code",
   "execution_count": null,
   "id": "65",
   "metadata": {},
   "outputs": [],
   "source": [
    "pairwiseF(testda, testdda, \"Annotator_1\", \"Annotator_0\")"
   ]
  },
  {
   "cell_type": "code",
   "execution_count": null,
   "id": "66",
   "metadata": {},
   "outputs": [],
   "source": [
    "# linear version\n",
    "# total 1: 5539\n",
    "# total 2: 5574\n",
    "\n",
    "# expected this to add up to the totals and it did\n",
    "# a1: 134\n",
    "# a2: 102\n",
    "# b: 5405\n",
    "# c: 5472\n",
    "\n",
    "# this doesn't need to add up to the totals\n",
    "# a1: 439\n",
    "# a2: 349\n",
    "# b: 5150\n",
    "# c: 5228\n",
    "\n",
    "# quadratic version\n",
    "# total 1: 5539\n",
    "# total 2: 5574\n",
    "# a1: 52\n",
    "# a2: 73\n",
    "# b: 5487\n",
    "# c: 5501"
   ]
  },
  {
   "cell_type": "code",
   "execution_count": null,
   "id": "67",
   "metadata": {},
   "outputs": [],
   "source": [
    "# this doesn't work\n",
    "def codewisePairwiseF(annDa, docDa, coder1, coder2, coderCol = \"annotation.creatingUser\", \n",
    "              docCol = \"document.name\", labelCol = \"annotation.code\", \n",
    "              startCol = \"quote.startPosition\", endCol = \"quote.endPosition\"):\n",
    "\n",
    "    # identify only the relevant codes for this pairwise comparison\n",
    "    commonCodes = annDa[(annDa[coderCol] == coder1) | (annDa[coderCol] == coder2)][labelCol].unique() # a Series\n",
    "    \n",
    "    arr = np.empty((len(commonCodes), 5), dtype=np.int16)\n",
    "    aa, bb, cc, nn1, nn2 = 0, 0, 0, 0, 0\n",
    "    \n",
    "    # loop over all the relevant documents\n",
    "    for idx, code in enumerate(commonCodes):\n",
    "        # now get the relevant annotations\n",
    "        posda1 = annDa[(annDa[labelCol] == code) & \n",
    "                       (annDa[coderCol] == coder1)].sort_values(by=[docCol, startCol, endCol]).reset_index(drop=True)\n",
    "        posda2 = annDa[(annDa[labelCol] == code) & \n",
    "                       (annDa[coderCol] == coder2)].sort_values(by=[docCol, startCol, endCol]).reset_index(drop=True)\n",
    "\n",
    "        a, b, c = agreement(posda1, posda2, docCol = docCol, labelCol = labelCol, \n",
    "                            startCol = startCol, endCol = endCol)\n",
    "        \n",
    "        arr[idx] = [a, b, c, posda1.shape[0], posda2.shape[0]]\n",
    "        \n",
    "        aa += a\n",
    "        bb += b\n",
    "        cc += c\n",
    "        nn1 += posda1.shape[0]\n",
    "        nn2 += posda2.shape[0]\n",
    "    \n",
    "    if aa == 0 and bb == 0 and cc == 0:\n",
    "        print(\"Warning: all zeros\")\n",
    "        return None\n",
    "    \n",
    "    #return 2*aa / (2*aa + bb + cc), aa, bb, cc, nn1, nn2\n",
    "    tmp = pd.DataFrame(data=commonDocs)\n",
    "    return pd.concat([tmp, pd.DataFrame(data=arr, columns=[\"a\", \"b\", \"c\", \"n1\", \"n2\"]).set_index(tmp.index)], \n",
    "                     axis=\"columns\")"
   ]
  },
  {
   "cell_type": "code",
   "execution_count": null,
   "id": "68",
   "metadata": {},
   "outputs": [],
   "source": []
  },
  {
   "cell_type": "code",
   "execution_count": null,
   "id": "69",
   "metadata": {},
   "outputs": [],
   "source": []
  },
  {
   "cell_type": "code",
   "execution_count": null,
   "id": "70",
   "metadata": {},
   "outputs": [],
   "source": []
  }
 ],
 "metadata": {
  "kernelspec": {
   "display_name": "Python 3 (ipykernel)",
   "language": "python",
   "name": "python3"
  },
  "language_info": {
   "codemirror_mode": {
    "name": "ipython",
    "version": 3
   },
   "file_extension": ".py",
   "mimetype": "text/x-python",
   "name": "python",
   "nbconvert_exporter": "python",
   "pygments_lexer": "ipython3",
   "version": "3.10.4"
  }
 },
 "nbformat": 4,
 "nbformat_minor": 5
}
